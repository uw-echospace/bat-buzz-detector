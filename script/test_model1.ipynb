{
 "cells": [
  {
   "cell_type": "code",
   "execution_count": 1,
   "metadata": {},
   "outputs": [],
   "source": [
    "from koogu.data import preprocess, feeder\n",
    "from koogu.model import architectures\n",
    "from koogu import prepare, train, recognize\n",
    "import matplotlib.pyplot as plt\n",
    "import os\n",
    "import json"
   ]
  },
  {
   "cell_type": "code",
   "execution_count": 2,
   "metadata": {},
   "outputs": [],
   "source": [
    "audio_root = '../data/train_audio'\n",
    "annots_root = '../data/train_annotations'"
   ]
  },
  {
   "cell_type": "code",
   "execution_count": 3,
   "metadata": {},
   "outputs": [
    {
     "data": {
      "text/plain": [
       "[]"
      ]
     },
     "execution_count": 3,
     "metadata": {},
     "output_type": "execute_result"
    }
   ],
   "source": [
    "\n",
    "\\\\\\\\audio_annot_list = []\n",
    "\n",
    "\n",
    "audio_files = os.listdir(audio_root)\n",
    "annotation_files = os.listdir(annots_root)\n",
    "\n",
    "\n",
    "audio_dict = {file.split('.')[0]: file for file in audio_files}\n",
    "annotation_dict = {file.split('.')[0]: file for file in annotation_files}\n",
    "\n",
    "\n",
    "for datetime_key, audio_file in audio_dict.items():\n",
    "    if datetime_key in annotation_dict:\n",
    "        annotation_file = annotation_dict[datetime_key]\n",
    "        audio_annot_list.append([audio_file, annotation_file])\n",
    "\n",
    "\n",
    "audio_annot_list"
   ]
  },
  {
   "cell_type": "code",
   "execution_count": 3,
   "metadata": {},
   "outputs": [],
   "source": [
    "audio_annot_list = [\n",
    "    ['all', 'merged_data.txt'],\n",
    "    #['NOPP6_EST_20090329', 'NOPP6_20090329_RW_upcalls.selections.txt'],\n",
    "    #['NOPP6_EST_20090330', 'NOPP6_20090330_RW_upcalls.selections.txt'],\n",
    "    #['NOPP6_EST_20090331', 'NOPP6_20090331_RW_upcalls.selections.txt'],\n",
    "]"
   ]
  },
  {
   "cell_type": "code",
   "execution_count": 4,
   "metadata": {},
   "outputs": [],
   "source": [
    "data_settings = {\n",
    "    'audio_settings': {\n",
    "        'clip_length': 100,       \n",
    "        'clip_advance': 0.05,    \n",
    "        'desired_fs': 192000    \n",
    "    },\n",
    "    'spec_settings': {\n",
    "        'win_len': 0.005,         \n",
    "        'win_overlap_prc': 50,   \n",
    "        'bandwidth_clip': [20000, 120000] \n",
    "    }\n",
    "}\n"
   ]
  },
  {
   "cell_type": "code",
   "execution_count": 5,
   "metadata": {},
   "outputs": [],
   "source": [
    "# Path to the directory where processed/prepared audio will be written\n",
    "prepared_audio_dir = '../prepared_audio'\n",
    "result_dir = '../result'"
   ]
  },
  {
   "cell_type": "code",
   "execution_count": 6,
   "metadata": {},
   "outputs": [
    {
     "name": "stdout",
     "output_type": "stream",
     "text": [
      "Nothing to process\n"
     ]
    }
   ],
   "source": [
    "clip_counts = preprocess.from_selection_table_map(\n",
    "    data_settings['audio_settings'], audio_annot_list,\n",
    "    audio_root, annots_root,\n",
    "    output_root=prepared_audio_dir,\n",
    "    negative_class_label='Other')\n",
    "\n",
    "for label, count in clip_counts.items():\n",
    "    print(f'{label:<10s}: {count:d}')"
   ]
  }
 ],
 "metadata": {
  "kernelspec": {
   "display_name": "buzz_dect_env",
   "language": "python",
   "name": "python3"
  },
  "language_info": {
   "codemirror_mode": {
    "name": "ipython",
    "version": 3
   },
   "file_extension": ".py",
   "mimetype": "text/x-python",
   "name": "python",
   "nbconvert_exporter": "python",
   "pygments_lexer": "ipython3",
   "version": "3.12.5"
  }
 },
 "nbformat": 4,
 "nbformat_minor": 2
}
